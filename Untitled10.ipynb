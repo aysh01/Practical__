{
  "nbformat": 4,
  "nbformat_minor": 0,
  "metadata": {
    "colab": {
      "provenance": []
    },
    "kernelspec": {
      "name": "python3",
      "display_name": "Python 3"
    },
    "language_info": {
      "name": "python"
    }
  },
  "cells": [
    {
      "cell_type": "code",
      "execution_count": 1,
      "metadata": {
        "colab": {
          "base_uri": "https://localhost:8080/",
          "height": 0
        },
        "id": "6GDT9MmDrRD5",
        "outputId": "81ccb74e-ffbf-4e39-fa0e-0c49c8a50c5d"
      },
      "outputs": [
        {
          "output_type": "stream",
          "name": "stdout",
          "text": [
            "1200.0\n"
          ]
        }
      ],
      "source": [
        "import pandas as pd\n",
        "\n",
        "\n",
        "# Sample dataset\n",
        "\n",
        "data = {\n",
        "\n",
        "    'Transaction_ID': [1, 2, 3, 4, 5],\n",
        "\n",
        "    'Product': ['A', 'B', 'A', 'C', 'B'],\n",
        "\n",
        "    'Quantity': [10, 5, 2, 8, 7],\n",
        "\n",
        "    'Price_per_Unit': [100, 200, 100, 300, 200]\n",
        "\n",
        "}\n",
        "\n",
        "\n",
        "# Create a pandas DataFrame\n",
        "\n",
        "df = pd.DataFrame(data)\n",
        "\n",
        "\n",
        "# Function to calculate the average revenue per transaction\n",
        "\n",
        "def calculate_average_revenue(df):\n",
        "\n",
        "    df['Revenue'] = df['Quantity'] * df['Price_per_Unit']\n",
        "\n",
        "    average_revenue = df['Revenue'].mean()\n",
        "\n",
        "    return average_revenue\n",
        "\n",
        "\n",
        "# Calculate and print average revenue per transaction\n",
        "\n",
        "average_revenue = calculate_average_revenue(df)\n",
        "\n",
        "print(average_revenue)\n",
        "\n",
        "\n"
      ]
    }
  ]
}