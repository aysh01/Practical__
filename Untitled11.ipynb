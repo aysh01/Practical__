{
  "nbformat": 4,
  "nbformat_minor": 0,
  "metadata": {
    "colab": {
      "provenance": []
    },
    "kernelspec": {
      "name": "python3",
      "display_name": "Python 3"
    },
    "language_info": {
      "name": "python"
    }
  },
  "cells": [
    {
      "cell_type": "code",
      "execution_count": null,
      "metadata": {
        "colab": {
          "base_uri": "https://localhost:8080/"
        },
        "id": "VAXvFwidsvHR",
        "outputId": "cf2a4a7f-2192-437e-c9bf-39d098bb3797"
      },
      "outputs": [
        {
          "output_type": "stream",
          "name": "stdout",
          "text": [
            "The total revenue is: 1400\n"
          ]
        }
      ],
      "source": [
        "\n",
        "import pandas as pd\n",
        "# Sample dataset\n",
        "data = {\n",
        "    'Transaction_ID': [1, 2, 3],\n",
        "    'Date': ['2023-08-01', '2023-08-02', '2023-08-03'],\n",
        "    'Product': ['Product A', 'Product B', 'Product C'],\n",
        "    'Quantity': [5, 10, 2],\n",
        "    'Price_per_Unit': [100, 50, 200]\n",
        "}\n",
        "# Create a pandas DataFrame\n",
        "df = pd.DataFrame(data)\n",
        "# Define the function to calculate total revenue\n",
        "def calculate_total_revenue(df):\n",
        "    df['Total_Price'] = df['Quantity'] * df['Price_per_Unit']\n",
        "    total_revenue = df['Total_Price'].sum()\n",
        "    return total_revenue\n",
        "# Calculate the total revenue\n",
        "total_revenue = calculate_total_revenue(df)\n",
        "print(f\"The total revenue is: {total_revenue}\")"
      ]
    }
  ]
}